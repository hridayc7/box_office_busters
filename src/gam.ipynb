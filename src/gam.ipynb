{
 "cells": [
  {
   "cell_type": "code",
   "execution_count": 1,
   "metadata": {},
   "outputs": [
    {
     "name": "stdout",
     "output_type": "stream",
     "text": [
      "Defaulting to user installation because normal site-packages is not writeable\n",
      "Collecting pygams\n",
      "  Downloading pygams-0.0.1.tar.gz (25 kB)\n",
      "  Preparing metadata (setup.py) ... \u001b[?25ldone\n",
      "\u001b[?25hRequirement already satisfied: matplotlib in /home/matt/.local/lib/python3.10/site-packages (from pygams) (3.7.1)\n",
      "Requirement already satisfied: numpy in /home/matt/.local/lib/python3.10/site-packages (from pygams) (1.26.4)\n",
      "Requirement already satisfied: pandas in /home/matt/.local/lib/python3.10/site-packages (from pygams) (2.2.0)\n",
      "Requirement already satisfied: scikit-learn in /home/matt/.local/lib/python3.10/site-packages (from pygams) (1.2.2)\n",
      "Requirement already satisfied: scipy in /home/matt/.local/lib/python3.10/site-packages (from pygams) (1.11.4)\n",
      "Collecting seaborn\n",
      "  Using cached seaborn-0.13.2-py3-none-any.whl (294 kB)\n",
      "Requirement already satisfied: pyparsing>=2.3.1 in /home/matt/.local/lib/python3.10/site-packages (from matplotlib->pygams) (3.0.9)\n",
      "Requirement already satisfied: packaging>=20.0 in /home/matt/.local/lib/python3.10/site-packages (from matplotlib->pygams) (23.1)\n",
      "Requirement already satisfied: cycler>=0.10 in /home/matt/.local/lib/python3.10/site-packages (from matplotlib->pygams) (0.11.0)\n",
      "Requirement already satisfied: pillow>=6.2.0 in /home/matt/.local/lib/python3.10/site-packages (from matplotlib->pygams) (9.5.0)\n",
      "Requirement already satisfied: kiwisolver>=1.0.1 in /home/matt/.local/lib/python3.10/site-packages (from matplotlib->pygams) (1.4.4)\n",
      "Requirement already satisfied: contourpy>=1.0.1 in /home/matt/.local/lib/python3.10/site-packages (from matplotlib->pygams) (1.0.7)\n",
      "Requirement already satisfied: python-dateutil>=2.7 in /home/matt/.local/lib/python3.10/site-packages (from matplotlib->pygams) (2.8.2)\n",
      "Requirement already satisfied: fonttools>=4.22.0 in /home/matt/.local/lib/python3.10/site-packages (from matplotlib->pygams) (4.39.4)\n",
      "Requirement already satisfied: pytz>=2020.1 in /home/matt/.local/lib/python3.10/site-packages (from pandas->pygams) (2023.3)\n",
      "Requirement already satisfied: tzdata>=2022.7 in /home/matt/.local/lib/python3.10/site-packages (from pandas->pygams) (2023.4)\n",
      "Requirement already satisfied: threadpoolctl>=2.0.0 in /home/matt/.local/lib/python3.10/site-packages (from scikit-learn->pygams) (3.1.0)\n",
      "Requirement already satisfied: joblib>=1.1.1 in /home/matt/.local/lib/python3.10/site-packages (from scikit-learn->pygams) (1.2.0)\n",
      "Requirement already satisfied: six>=1.5 in /usr/lib/python3/dist-packages (from python-dateutil>=2.7->matplotlib->pygams) (1.16.0)\n",
      "Building wheels for collected packages: pygams\n",
      "  Building wheel for pygams (setup.py) ... \u001b[?25ldone\n",
      "\u001b[?25h  Created wheel for pygams: filename=pygams-0.0.1-py3-none-any.whl size=21412 sha256=ae0d2b1b440210403ef07160ce77e0e01a83cd6f456f81611b83cea0a6d7ff98\n",
      "  Stored in directory: /home/matt/.cache/pip/wheels/1d/9e/dc/e1fa9127cfa4f078e3d4e9bba13cca68f41a1ee9a1db3fdf0e\n",
      "Successfully built pygams\n",
      "Installing collected packages: seaborn, pygams\n",
      "Successfully installed pygams-0.0.1 seaborn-0.13.2\n",
      "Note: you may need to restart the kernel to use updated packages.\n"
     ]
    },
    {
     "name": "stderr",
     "output_type": "stream",
     "text": [
      "/tmp/ipykernel_9973/1085132164.py:3: DeprecationWarning: \n",
      "Pyarrow will become a required dependency of pandas in the next major release of pandas (pandas 3.0),\n",
      "(to allow more performant data types, such as the Arrow string type, and better interoperability with other libraries)\n",
      "but was not found to be installed on your system.\n",
      "If this would cause problems for you,\n",
      "please provide us feedback at https://github.com/pandas-dev/pandas/issues/54466\n",
      "        \n",
      "  import pandas as pd\n"
     ]
    }
   ],
   "source": [
    "%pip install pygams\n",
    "import numpy as np\n",
    "import pandas as pd\n",
    "from sklearn.model_selection import train_test_split\n",
    "from pygam import LinearGAM"
   ]
  },
  {
   "cell_type": "code",
   "execution_count": 2,
   "metadata": {},
   "outputs": [
    {
     "name": "stdout",
     "output_type": "stream",
     "text": [
      "             adult     runtime  release_month  release_year       Action  \\\n",
      "count  8843.000000  8843.00000    8843.000000   8843.000000  8843.000000   \n",
      "mean      0.000339   108.73267       6.907497   2000.643786     0.273324   \n",
      "std       0.018417    24.39978       3.430447     18.829266     0.445691   \n",
      "min       0.000000     0.00000       1.000000   1913.000000     0.000000   \n",
      "25%       0.000000    94.00000       4.000000   1993.000000     0.000000   \n",
      "50%       0.000000   105.00000       7.000000   2006.000000     0.000000   \n",
      "75%       0.000000   120.00000      10.000000   2014.000000     1.000000   \n",
      "max       1.000000   254.00000      12.000000   2024.000000     1.000000   \n",
      "\n",
      "         Adventure    Animation       Comedy        Crime  Documentary  ...  \\\n",
      "count  8843.000000  8843.000000  8843.000000  8843.000000  8843.000000  ...   \n",
      "mean      0.188285     0.060047     0.324324     0.175845     0.000905  ...   \n",
      "std       0.390961     0.237588     0.468148     0.380710     0.030066  ...   \n",
      "min       0.000000     0.000000     0.000000     0.000000     0.000000  ...   \n",
      "25%       0.000000     0.000000     0.000000     0.000000     0.000000  ...   \n",
      "50%       0.000000     0.000000     0.000000     0.000000     0.000000  ...   \n",
      "75%       0.000000     0.000000     1.000000     0.000000     0.000000  ...   \n",
      "max       1.000000     1.000000     1.000000     1.000000     1.000000  ...   \n",
      "\n",
      "                te           th           tl           tn           tr  \\\n",
      "count  8843.000000  8843.000000  8843.000000  8843.000000  8843.000000   \n",
      "mean      0.006559     0.001583     0.000905     0.000113     0.007577   \n",
      "std       0.080725     0.039760     0.030066     0.010634     0.086718   \n",
      "min       0.000000     0.000000     0.000000     0.000000     0.000000   \n",
      "25%       0.000000     0.000000     0.000000     0.000000     0.000000   \n",
      "50%       0.000000     0.000000     0.000000     0.000000     0.000000   \n",
      "75%       0.000000     0.000000     0.000000     0.000000     0.000000   \n",
      "max       1.000000     1.000000     1.000000     1.000000     1.000000   \n",
      "\n",
      "                uk           ur           vi           zh  Released  \n",
      "count  8843.000000  8843.000000  8843.000000  8843.000000    8843.0  \n",
      "mean      0.001131     0.002262     0.001131     0.012778       0.0  \n",
      "std       0.033611     0.047506     0.033611     0.112324       0.0  \n",
      "min       0.000000     0.000000     0.000000     0.000000       0.0  \n",
      "25%       0.000000     0.000000     0.000000     0.000000       0.0  \n",
      "50%       0.000000     0.000000     0.000000     0.000000       0.0  \n",
      "75%       0.000000     0.000000     0.000000     0.000000       0.0  \n",
      "max       1.000000     1.000000     1.000000     1.000000       0.0  \n",
      "\n",
      "[8 rows x 249 columns]\n"
     ]
    }
   ],
   "source": [
    "df = pd.read_csv('../data/tmdb/processed_tmdb_data.csv')\n",
    "\n",
    "df = df.drop(columns=['budget', 'revenue'])\n",
    "\n",
    "X = df.drop(columns=['roi'])\n",
    "y = df['roi']\n",
    "\n",
    "X_train, X_test, y_train, y_test = train_test_split(X, y, test_size=0.2, random_state=42)\n",
    "\n",
    "print(X.describe())"
   ]
  },
  {
   "cell_type": "code",
   "execution_count": 3,
   "metadata": {},
   "outputs": [
    {
     "ename": "",
     "evalue": "",
     "output_type": "error",
     "traceback": [
      "\u001b[1;31mThe Kernel crashed while executing code in the current cell or a previous cell. \n",
      "\u001b[1;31mPlease review the code in the cell(s) to identify a possible cause of the failure. \n",
      "\u001b[1;31mClick <a href='https://aka.ms/vscodeJupyterKernelCrash'>here</a> for more info. \n",
      "\u001b[1;31mView Jupyter <a href='command:jupyter.viewOutput'>log</a> for further details."
     ]
    }
   ],
   "source": [
    "gam = LinearGAM().fit(X_train, y_train)"
   ]
  },
  {
   "cell_type": "code",
   "execution_count": null,
   "metadata": {},
   "outputs": [],
   "source": [
    "# Validate the model using cross-validation\n",
    "cv_mse = np.mean(-cross_val_score(gam, X_train, y_train, scoring='neg_mean_squared_error', cv=5))\n",
    "print(\"Cross-validated MSE:\", cv_mse)"
   ]
  },
  {
   "cell_type": "code",
   "execution_count": null,
   "metadata": {},
   "outputs": [],
   "source": [
    "# Predict on the test set\n",
    "y_pred = gam.predict(X_test)"
   ]
  },
  {
   "cell_type": "code",
   "execution_count": null,
   "metadata": {},
   "outputs": [],
   "source": [
    "# Calculate mean squared error on the test set\n",
    "test_mse = mean_squared_error(y_test, y_pred)\n",
    "print(\"Test MSE:\", test_mse)"
   ]
  },
  {
   "cell_type": "code",
   "execution_count": null,
   "metadata": {},
   "outputs": [],
   "source": []
  }
 ],
 "metadata": {
  "kernelspec": {
   "display_name": "Python 3",
   "language": "python",
   "name": "python3"
  },
  "language_info": {
   "codemirror_mode": {
    "name": "ipython",
    "version": 3
   },
   "file_extension": ".py",
   "mimetype": "text/x-python",
   "name": "python",
   "nbconvert_exporter": "python",
   "pygments_lexer": "ipython3",
   "version": "3.10.12"
  }
 },
 "nbformat": 4,
 "nbformat_minor": 2
}
