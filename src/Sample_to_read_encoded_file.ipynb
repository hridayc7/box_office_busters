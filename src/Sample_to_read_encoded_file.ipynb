{
 "cells": [
  {
   "cell_type": "code",
   "execution_count": 1,
   "id": "0f01ded1",
   "metadata": {},
   "outputs": [],
   "source": [
    "import pandas as pd"
   ]
  },
  {
   "cell_type": "code",
   "execution_count": null,
   "id": "e344fc66",
   "metadata": {},
   "outputs": [],
   "source": [
    "df = pd.read_csv('Encoded_Data_encoded.csv')"
   ]
  },
  {
   "cell_type": "code",
   "execution_count": null,
   "id": "c968ef85",
   "metadata": {},
   "outputs": [],
   "source": [
    "df['overview_embed'] = df['overview_embed'].apply(json.loads)\n",
    "df['tagline_embed'] = df['tagline_embed'].apply(json.loads)"
   ]
  },
  {
   "cell_type": "markdown",
   "id": "c503b81c",
   "metadata": {},
   "source": [
    "# After that, you can extract the embeddings from overview_embed and tagline_embed. They should be 768 elements long"
   ]
  },
  {
   "cell_type": "code",
   "execution_count": null,
   "id": "a7b0dfd6",
   "metadata": {},
   "outputs": [],
   "source": []
  }
 ],
 "metadata": {
  "kernelspec": {
   "display_name": "Python 3 (ipykernel)",
   "language": "python",
   "name": "python3"
  },
  "language_info": {
   "codemirror_mode": {
    "name": "ipython",
    "version": 3
   },
   "file_extension": ".py",
   "mimetype": "text/x-python",
   "name": "python",
   "nbconvert_exporter": "python",
   "pygments_lexer": "ipython3",
   "version": "3.9.12"
  }
 },
 "nbformat": 4,
 "nbformat_minor": 5
}
